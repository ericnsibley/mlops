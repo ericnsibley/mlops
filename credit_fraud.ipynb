{
 "cells": [
  {
   "cell_type": "markdown",
   "metadata": {},
   "source": [
    "### Based off [this notebook](https://github.com/statmike/vertex-ai-mlops/blob/main/01%20-%20Data%20Sources/01%20-%20BigQuery%20-%20Table%20Data%20Source.ipynb)"
   ]
  },
  {
   "cell_type": "code",
   "execution_count": 1,
   "metadata": {},
   "outputs": [],
   "source": [
    "# imports\n",
    "from google.cloud import aiplatform\n",
    "from google.cloud import bigquery\n",
    "from google.cloud import storage\n",
    "from google.protobuf import json_format\n",
    "from google.protobuf.struct_pb2 import Value\n",
    "import pandas as pd\n",
    "import matplotlib.pylab as plt"
   ]
  },
  {
   "cell_type": "code",
   "execution_count": 2,
   "metadata": {},
   "outputs": [
    {
     "name": "stdout",
     "output_type": "stream",
     "text": [
      "Authenticated as esibleythrowaway@gmail.com\n",
      "Logged into project totemic-guild-419402\n"
     ]
    }
   ],
   "source": [
    "# auth\n",
    "try:\n",
    "    account = !gcloud config get-value account\n",
    "    print(f\"Authenticated as {account[0]}\")\n",
    "    project = !gcloud config get-value project\n",
    "    PROJECT_ID = project[0]\n",
    "    print(f\"Logged into project {PROJECT_ID}\")\n",
    "except Exception as e:\n",
    "    print(f\"Not authenticated: {e}\")\n",
    "    print(\"Have you ran 'gcloud init'?\")\n"
   ]
  },
  {
   "cell_type": "code",
   "execution_count": 3,
   "metadata": {},
   "outputs": [],
   "source": [
    "# globals\n",
    "REGION = 'us-central1'\n",
    "EXPERIMENT = '01'\n",
    "SERIES = '01'\n",
    "BQ_PROJECT = PROJECT_ID\n",
    "BQ_DATASET = 'fraud'\n",
    "BQ_TABLE = 'fraud'\n",
    "BQ_SOURCE = 'bigquery-public-data.ml_datasets.ulb_fraud_detection'\n",
    "BUCKET = PROJECT_ID\n",
    "NOTEBOOK = 'eric-classifier'\n",
    "DEPLOY_COMPUTE = 'n1-standard-4'\n",
    "VAR_TARGET = 'Class'\n",
    "VAR_OMIT = 'transaction_id'\n",
    "VAR_SPLITS = 'splits'\n",
    "CLASSIFIER_VERSION = \"0.0.1\""
   ]
  },
  {
   "cell_type": "code",
   "execution_count": 4,
   "metadata": {},
   "outputs": [],
   "source": [
    "# clients\n",
    "aiplatform.init(project=PROJECT_ID, location=REGION)\n",
    "bq = bigquery.Client(project = PROJECT_ID)\n",
    "gcs = storage.Client(project = PROJECT_ID)\n",
    "model_client = aiplatform.gapic.ModelServiceClient(\n",
    "    client_options = {\n",
    "        'api_endpoint' : f'{REGION}-aiplatform.googleapis.com'\n",
    "    }\n",
    ")"
   ]
  },
  {
   "cell_type": "markdown",
   "metadata": {},
   "source": [
    "## Data prep in GCS and BigQuery"
   ]
  },
  {
   "cell_type": "code",
   "execution_count": 16,
   "metadata": {},
   "outputs": [
    {
     "name": "stdout",
     "output_type": "stream",
     "text": [
      "Bucket already exist: totemic-guild-419402\n",
      "The file has already been created at: gs://totemic-guild-419402/01/01/data/fraud.csv\n",
      "Dataset 'fraud' has already been created\n",
      "The table already exists: totemic-guild-419402.fraud.fraud\n"
     ]
    }
   ],
   "source": [
    "# create bucket if not exists\n",
    "if not gcs.lookup_bucket(BUCKET):\n",
    "    bucketDef = gcs.bucket(BUCKET)\n",
    "    bucket = gcs.create_bucket(bucketDef, project=PROJECT_ID, location=REGION)\n",
    "    print(f'Created Bucket: {gcs.lookup_bucket(BUCKET).name}')\n",
    "else:\n",
    "    bucketDef = gcs.bucket(BUCKET)\n",
    "    print(f'Bucket already exist: {bucketDef.name}')\n",
    "\n",
    "# download the public dataset if not downloaded already\n",
    "# it isn't important that we downloaded it from BQ; this was a public read-only location\n",
    "file = f\"{SERIES}/{EXPERIMENT}/data/{BQ_TABLE}.csv\"\n",
    "bucketDef = gcs.bucket(BUCKET)\n",
    "if storage.Blob(bucket = bucketDef, name = file).exists(gcs):\n",
    "    print(f'The file has already been created at: gs://{bucketDef.name}/{file}')\n",
    "else:\n",
    "    source = bigquery.TableReference.from_string(BQ_SOURCE)\n",
    "    extract = bq.extract_table(source = source, destination_uris = [f'gs://{bucketDef.name}/{file}'])\n",
    "    print('Creating the export ...')\n",
    "    extract.result() \n",
    "    print(f'Exported the table to: gs://{bucketDef.name}/{file}')\n",
    "\n",
    "# create our own BQ dataset to load our data into if not exists\n",
    "datasets = list(bq.list_datasets())\n",
    "dataset_ids = [ d.dataset_id for d in datasets ] \n",
    "if BQ_DATASET not in dataset_ids:\n",
    "    ds = bigquery.Dataset(f\"{BQ_PROJECT}.{BQ_DATASET}\")\n",
    "    ds.location = REGION\n",
    "    ds.labels = {'experiment': f'{EXPERIMENT}'}\n",
    "    ds = bq.create_dataset(dataset = ds)\n",
    "    ds.created\n",
    "    print(f\"Dataset '{BQ_DATASET}' has been created\")\n",
    "else: \n",
    "    print(f\"Dataset '{BQ_DATASET}' has already been created\")\n",
    "\n",
    "# create BQ table and load with our data if not exists\n",
    "from google.cloud.exceptions import NotFound\n",
    "try:\n",
    "    table = bq.get_table(f'{BQ_PROJECT}.{BQ_DATASET}.{BQ_TABLE}')\n",
    "    if table:\n",
    "        print(f'The table already exists: {BQ_PROJECT}.{BQ_DATASET}.{BQ_TABLE}')\n",
    "except NotFound as error:\n",
    "    print(f'Creating Table ...')\n",
    "    destination = bigquery.TableReference.from_string(f\"{BQ_PROJECT}.{BQ_DATASET}.{BQ_TABLE}\")\n",
    "    job_config = bigquery.LoadJobConfig(\n",
    "        write_disposition = 'WRITE_TRUNCATE',\n",
    "        source_format = bigquery.SourceFormat.CSV,\n",
    "        autodetect = True,\n",
    "        labels = {'experiment': f'{EXPERIMENT}'}\n",
    "    )\n",
    "    job = bq.load_table_from_uri(f\"gs://{bucketDef.name}/{file}\", destination, job_config = job_config)\n",
    "    job.result()\n",
    "    print(f'Finished creating table: {BQ_PROJECT}.{BQ_DATASET}.{BQ_TABLE}')"
   ]
  },
  {
   "cell_type": "code",
   "execution_count": 9,
   "metadata": {},
   "outputs": [
    {
     "data": {
      "text/html": [
       "<div>\n",
       "<style scoped>\n",
       "    .dataframe tbody tr th:only-of-type {\n",
       "        vertical-align: middle;\n",
       "    }\n",
       "\n",
       "    .dataframe tbody tr th {\n",
       "        vertical-align: top;\n",
       "    }\n",
       "\n",
       "    .dataframe thead th {\n",
       "        text-align: right;\n",
       "    }\n",
       "</style>\n",
       "<table border=\"1\" class=\"dataframe\">\n",
       "  <thead>\n",
       "    <tr style=\"text-align: right;\">\n",
       "      <th></th>\n",
       "      <th>Time</th>\n",
       "      <th>V1</th>\n",
       "      <th>V2</th>\n",
       "      <th>V3</th>\n",
       "      <th>V4</th>\n",
       "      <th>V5</th>\n",
       "      <th>V6</th>\n",
       "      <th>V7</th>\n",
       "      <th>V8</th>\n",
       "      <th>V9</th>\n",
       "      <th>...</th>\n",
       "      <th>V21</th>\n",
       "      <th>V22</th>\n",
       "      <th>V23</th>\n",
       "      <th>V24</th>\n",
       "      <th>V25</th>\n",
       "      <th>V26</th>\n",
       "      <th>V27</th>\n",
       "      <th>V28</th>\n",
       "      <th>Amount</th>\n",
       "      <th>Class</th>\n",
       "    </tr>\n",
       "  </thead>\n",
       "  <tbody>\n",
       "    <tr>\n",
       "      <th>0</th>\n",
       "      <td>8748</td>\n",
       "      <td>-1.070416</td>\n",
       "      <td>0.304517</td>\n",
       "      <td>2.777064</td>\n",
       "      <td>2.154061</td>\n",
       "      <td>0.254450</td>\n",
       "      <td>-0.448529</td>\n",
       "      <td>-0.398691</td>\n",
       "      <td>0.144672</td>\n",
       "      <td>1.070900</td>\n",
       "      <td>...</td>\n",
       "      <td>-0.122032</td>\n",
       "      <td>-0.182351</td>\n",
       "      <td>0.019576</td>\n",
       "      <td>0.626023</td>\n",
       "      <td>-0.018518</td>\n",
       "      <td>-0.263291</td>\n",
       "      <td>-0.198600</td>\n",
       "      <td>0.098435</td>\n",
       "      <td>0.0</td>\n",
       "      <td>0</td>\n",
       "    </tr>\n",
       "    <tr>\n",
       "      <th>1</th>\n",
       "      <td>27074</td>\n",
       "      <td>1.165628</td>\n",
       "      <td>0.423671</td>\n",
       "      <td>0.887635</td>\n",
       "      <td>2.740163</td>\n",
       "      <td>-0.338578</td>\n",
       "      <td>-0.142846</td>\n",
       "      <td>-0.055628</td>\n",
       "      <td>-0.015325</td>\n",
       "      <td>-0.213621</td>\n",
       "      <td>...</td>\n",
       "      <td>-0.081184</td>\n",
       "      <td>-0.025694</td>\n",
       "      <td>-0.076609</td>\n",
       "      <td>0.414687</td>\n",
       "      <td>0.631032</td>\n",
       "      <td>0.077322</td>\n",
       "      <td>0.010182</td>\n",
       "      <td>0.019912</td>\n",
       "      <td>0.0</td>\n",
       "      <td>0</td>\n",
       "    </tr>\n",
       "    <tr>\n",
       "      <th>2</th>\n",
       "      <td>28292</td>\n",
       "      <td>1.050879</td>\n",
       "      <td>0.053408</td>\n",
       "      <td>1.364590</td>\n",
       "      <td>2.666158</td>\n",
       "      <td>-0.378636</td>\n",
       "      <td>1.382032</td>\n",
       "      <td>-0.766202</td>\n",
       "      <td>0.486126</td>\n",
       "      <td>0.152611</td>\n",
       "      <td>...</td>\n",
       "      <td>0.083467</td>\n",
       "      <td>0.624424</td>\n",
       "      <td>-0.157228</td>\n",
       "      <td>-0.240411</td>\n",
       "      <td>0.573061</td>\n",
       "      <td>0.244090</td>\n",
       "      <td>0.063834</td>\n",
       "      <td>0.010981</td>\n",
       "      <td>0.0</td>\n",
       "      <td>0</td>\n",
       "    </tr>\n",
       "    <tr>\n",
       "      <th>3</th>\n",
       "      <td>28488</td>\n",
       "      <td>1.070316</td>\n",
       "      <td>0.079499</td>\n",
       "      <td>1.471856</td>\n",
       "      <td>2.863786</td>\n",
       "      <td>-0.637887</td>\n",
       "      <td>0.858159</td>\n",
       "      <td>-0.687478</td>\n",
       "      <td>0.344146</td>\n",
       "      <td>0.459561</td>\n",
       "      <td>...</td>\n",
       "      <td>0.048067</td>\n",
       "      <td>0.534713</td>\n",
       "      <td>-0.098645</td>\n",
       "      <td>0.129272</td>\n",
       "      <td>0.543737</td>\n",
       "      <td>0.242724</td>\n",
       "      <td>0.065070</td>\n",
       "      <td>0.023500</td>\n",
       "      <td>0.0</td>\n",
       "      <td>0</td>\n",
       "    </tr>\n",
       "    <tr>\n",
       "      <th>4</th>\n",
       "      <td>31392</td>\n",
       "      <td>-3.680953</td>\n",
       "      <td>-4.183581</td>\n",
       "      <td>2.642743</td>\n",
       "      <td>4.263802</td>\n",
       "      <td>4.643286</td>\n",
       "      <td>-0.225053</td>\n",
       "      <td>-3.733637</td>\n",
       "      <td>1.273037</td>\n",
       "      <td>0.015661</td>\n",
       "      <td>...</td>\n",
       "      <td>0.649051</td>\n",
       "      <td>1.054124</td>\n",
       "      <td>0.795528</td>\n",
       "      <td>-0.901314</td>\n",
       "      <td>-0.425524</td>\n",
       "      <td>0.511675</td>\n",
       "      <td>0.125419</td>\n",
       "      <td>0.243671</td>\n",
       "      <td>0.0</td>\n",
       "      <td>0</td>\n",
       "    </tr>\n",
       "  </tbody>\n",
       "</table>\n",
       "<p>5 rows × 31 columns</p>\n",
       "</div>"
      ],
      "text/plain": [
       "    Time        V1        V2        V3        V4        V5        V6  \\\n",
       "0   8748 -1.070416  0.304517  2.777064  2.154061  0.254450 -0.448529   \n",
       "1  27074  1.165628  0.423671  0.887635  2.740163 -0.338578 -0.142846   \n",
       "2  28292  1.050879  0.053408  1.364590  2.666158 -0.378636  1.382032   \n",
       "3  28488  1.070316  0.079499  1.471856  2.863786 -0.637887  0.858159   \n",
       "4  31392 -3.680953 -4.183581  2.642743  4.263802  4.643286 -0.225053   \n",
       "\n",
       "         V7        V8        V9  ...       V21       V22       V23       V24  \\\n",
       "0 -0.398691  0.144672  1.070900  ... -0.122032 -0.182351  0.019576  0.626023   \n",
       "1 -0.055628 -0.015325 -0.213621  ... -0.081184 -0.025694 -0.076609  0.414687   \n",
       "2 -0.766202  0.486126  0.152611  ...  0.083467  0.624424 -0.157228 -0.240411   \n",
       "3 -0.687478  0.344146  0.459561  ...  0.048067  0.534713 -0.098645  0.129272   \n",
       "4 -3.733637  1.273037  0.015661  ...  0.649051  1.054124  0.795528 -0.901314   \n",
       "\n",
       "        V25       V26       V27       V28  Amount  Class  \n",
       "0 -0.018518 -0.263291 -0.198600  0.098435     0.0      0  \n",
       "1  0.631032  0.077322  0.010182  0.019912     0.0      0  \n",
       "2  0.573061  0.244090  0.063834  0.010981     0.0      0  \n",
       "3  0.543737  0.242724  0.065070  0.023500     0.0      0  \n",
       "4 -0.425524  0.511675  0.125419  0.243671     0.0      0  \n",
       "\n",
       "[5 rows x 31 columns]"
      ]
     },
     "execution_count": 9,
     "metadata": {},
     "output_type": "execute_result"
    }
   ],
   "source": [
    "query = f\"\"\"\n",
    "SELECT *\n",
    "FROM `{BQ_PROJECT}.{BQ_DATASET}.{BQ_TABLE}` TABLESAMPLE SYSTEM (1 PERCENT)\n",
    "LIMIT 5\n",
    "\"\"\"\n",
    "bq.query(query = query).to_dataframe()"
   ]
  },
  {
   "cell_type": "code",
   "execution_count": 32,
   "metadata": {},
   "outputs": [
    {
     "name": "stdout",
     "output_type": "stream",
     "text": [
      "The table already exists: 'totemic-guild-419402.fraud.fraud_prepped'\n"
     ]
    },
    {
     "data": {
      "text/html": [
       "<div>\n",
       "<style scoped>\n",
       "    .dataframe tbody tr th:only-of-type {\n",
       "        vertical-align: middle;\n",
       "    }\n",
       "\n",
       "    .dataframe tbody tr th {\n",
       "        vertical-align: top;\n",
       "    }\n",
       "\n",
       "    .dataframe thead th {\n",
       "        text-align: right;\n",
       "    }\n",
       "</style>\n",
       "<table border=\"1\" class=\"dataframe\">\n",
       "  <thead>\n",
       "    <tr style=\"text-align: right;\">\n",
       "      <th></th>\n",
       "      <th>splits</th>\n",
       "      <th>Count</th>\n",
       "      <th>Percentage</th>\n",
       "    </tr>\n",
       "  </thead>\n",
       "  <tbody>\n",
       "    <tr>\n",
       "      <th>0</th>\n",
       "      <td>VALIDATE</td>\n",
       "      <td>28639</td>\n",
       "      <td>10.055581</td>\n",
       "    </tr>\n",
       "    <tr>\n",
       "      <th>1</th>\n",
       "      <td>TEST</td>\n",
       "      <td>28301</td>\n",
       "      <td>9.936905</td>\n",
       "    </tr>\n",
       "    <tr>\n",
       "      <th>2</th>\n",
       "      <td>TRAIN</td>\n",
       "      <td>227867</td>\n",
       "      <td>80.007514</td>\n",
       "    </tr>\n",
       "  </tbody>\n",
       "</table>\n",
       "</div>"
      ],
      "text/plain": [
       "     splits   Count  Percentage\n",
       "0  VALIDATE   28639   10.055581\n",
       "1      TEST   28301    9.936905\n",
       "2     TRAIN  227867   80.007514"
      ]
     },
     "execution_count": 32,
     "metadata": {},
     "output_type": "execute_result"
    }
   ],
   "source": [
    "# prep data \n",
    "bq_tables = bq.list_tables(dataset=BQ_DATASET)\n",
    "bq_tables = [ t.full_table_id.split('.')[-1] for t in bq_tables ] \n",
    "if f\"{BQ_TABLE}_prepped\" in bq_tables:\n",
    "    print(f\"The table already exists: '{BQ_PROJECT}.{BQ_DATASET}.{BQ_TABLE}_prepped'\")\n",
    "else: \n",
    "    query = f\"\"\"\n",
    "    CREATE TABLE IF NOT EXISTS `{BQ_PROJECT}.{BQ_DATASET}.{BQ_TABLE}_prepped` AS\n",
    "    WITH add_id AS(SELECT *, GENERATE_UUID() transaction_id FROM `{BQ_PROJECT}.{BQ_DATASET}.{BQ_TABLE}`)\n",
    "    SELECT *,\n",
    "        CASE \n",
    "            WHEN MOD(ABS(FARM_FINGERPRINT(transaction_id)),10) < 8 THEN \"TRAIN\" \n",
    "            WHEN MOD(ABS(FARM_FINGERPRINT(transaction_id)),10) < 9 THEN \"VALIDATE\"\n",
    "            ELSE \"TEST\"\n",
    "        END AS splits\n",
    "    FROM add_id\n",
    "    \"\"\"\n",
    "    job = bq.query(query = query)\n",
    "    job.result()\n",
    "    print(f\" The job took {(job.ended-job.started).total_seconds()} seconds\")\n",
    "\n",
    "# sample data\n",
    "query = f\"\"\"\n",
    "SELECT splits, count(*) as Count, 100*count(*) / (sum(count(*)) OVER()) as Percentage\n",
    "FROM `{BQ_PROJECT}.{BQ_DATASET}.{BQ_TABLE}_prepped`\n",
    "GROUP BY splits\n",
    "\"\"\"\n",
    "bq.query(query = query).to_dataframe()"
   ]
  },
  {
   "cell_type": "markdown",
   "metadata": {},
   "source": [
    "## AutoML training"
   ]
  },
  {
   "cell_type": "code",
   "execution_count": 25,
   "metadata": {},
   "outputs": [
    {
     "name": "stdout",
     "output_type": "stream",
     "text": [
      "Creating TabularDataset\n",
      "Create TabularDataset backing LRO: projects/614098673135/locations/us-central1/datasets/8389921332279640064/operations/5205034204181561344\n",
      "TabularDataset created. Resource name: projects/614098673135/locations/us-central1/datasets/8389921332279640064\n",
      "To use this TabularDataset in another session:\n",
      "ds = aiplatform.TabularDataset('projects/614098673135/locations/us-central1/datasets/8389921332279640064')\n"
     ]
    }
   ],
   "source": [
    "vertex_dataset_name = f'{SERIES}_{EXPERIMENT}_{NOTEBOOK}_{CLASSIFIER_VERSION}'\n",
    "vertex_datasets = aiplatform.TabularDataset.list()\n",
    "our_ds = [ ds for ds in vertex_datasets if ds.display_name == vertex_dataset_name ]\n",
    "match our_ds:\n",
    "    case []:\n",
    "        dataset = aiplatform.TabularDataset.create(\n",
    "            display_name = vertex_dataset_name, \n",
    "            bq_source = f'bq://{PROJECT_ID}.{BQ_DATASET}.{BQ_TABLE}_prepped',\n",
    "            labels = {'notebook':f'{NOTEBOOK}'}\n",
    "        )\n",
    "\n",
    "    case [single_item]:\n",
    "        print(f\"Vertex AI Dataset {vertex_dataset_name} has already been created. Did you want to increment the 'CLASSIFIER_VERSION' variable?\")\n",
    "        dataset = single_item\n",
    "    \n",
    "    case err:\n",
    "        print(err)\n",
    "        raise Exception()"
   ]
  },
  {
   "cell_type": "code",
   "execution_count": 32,
   "metadata": {},
   "outputs": [
    {
     "name": "stdout",
     "output_type": "stream",
     "text": [
      "The training job already exists: '01_01_eric-classifier_0.0.1_tabular_automl_0.2'\n"
     ]
    }
   ],
   "source": [
    "MODEL_VERSION = \"0.2\"\n",
    "MODEL_TYPE = \"tabular_automl\"\n",
    "vertex_model_name = f\"{vertex_dataset_name}_{MODEL_TYPE}_{MODEL_VERSION}\" \n",
    "training_jobs = aiplatform.AutoMLTabularTrainingJob.list()\n",
    "our_tj = [ tj for tj in training_jobs if tj.display_name == vertex_model_name ]\n",
    "match our_tj:\n",
    "    case []:\n",
    "        column_specs = list(set(dataset.column_names) - set([VAR_TARGET, VAR_SPLITS, VAR_OMIT]))\n",
    "        column_specs = dict.fromkeys(column_specs, 'auto')\n",
    "        \n",
    "        tabular_classification_job = aiplatform.AutoMLTabularTrainingJob(\n",
    "            display_name = f'{vertex_model_name}',\n",
    "            optimization_prediction_type = 'classification',\n",
    "            optimization_objective = 'maximize-au-prc',\n",
    "            column_specs = column_specs,\n",
    "            labels = {'notebook':f'{NOTEBOOK}'}\n",
    "        )\n",
    "        \n",
    "        model = tabular_classification_job.run(\n",
    "            dataset = dataset,\n",
    "            target_column = VAR_TARGET,\n",
    "            predefined_split_column_name = VAR_SPLITS,\n",
    "            budget_milli_node_hours = 1000,\n",
    "            model_display_name = vertex_model_name,\n",
    "            disable_early_stopping = False,\n",
    "            model_labels = {'notebook':f'{NOTEBOOK}'}\n",
    "        )\n",
    "\n",
    "    case[single_item]:\n",
    "        print(f\"The training job already exists: '{single_item.display_name}'\")\n",
    "        model = [ m for m in aiplatform.Model.list() if m.display_name == vertex_model_name ][0]\n",
    "        \n",
    "    case err:\n",
    "        print(err)\n",
    "        raise Exception()\n"
   ]
  },
  {
   "cell_type": "markdown",
   "metadata": {},
   "source": [
    "## Deployment"
   ]
  },
  {
   "cell_type": "code",
   "execution_count": 30,
   "metadata": {},
   "outputs": [
    {
     "name": "stdout",
     "output_type": "stream",
     "text": [
      "Creating Endpoint\n",
      "Create Endpoint backing LRO: projects/614098673135/locations/us-central1/endpoints/6577443484100198400/operations/4466443865292800000\n",
      "Endpoint created. Resource name: projects/614098673135/locations/us-central1/endpoints/6577443484100198400\n",
      "To use this Endpoint in another session:\n",
      "endpoint = aiplatform.Endpoint('projects/614098673135/locations/us-central1/endpoints/6577443484100198400')\n"
     ]
    }
   ],
   "source": [
    "endpoint_name = f\"{vertex_model_name}_endpoint\"\n",
    "endpoints = aiplatform.Endpoint.list()\n",
    "our_endpoint = [ e for e in endpoints if e.display_name == endpoint_name ]\n",
    "match our_endpoint:\n",
    "    case []:\n",
    "        endpoint = aiplatform.Endpoint.create(\n",
    "            display_name = endpoint_name,\n",
    "            labels = {'notebook':f'{NOTEBOOK}'}\n",
    "        )\n",
    "\n",
    "        endpoint.deploy(\n",
    "            model = model,\n",
    "            deployed_model_display_name = NOTEBOOK,\n",
    "            traffic_percentage = 100,\n",
    "            machine_type = DEPLOY_COMPUTE,\n",
    "            min_replica_count = 1,\n",
    "            max_replica_count = 1\n",
    "        )\n",
    "\n",
    "    case [single_item]: \n",
    "        print(f\"The training job already exists: '{single_item.display_name}'\")\n",
    "        endpoint = single_item \n",
    "        \n",
    "    case err:\n",
    "        print(err)\n",
    "        raise Exception()"
   ]
  },
  {
   "cell_type": "markdown",
   "metadata": {},
   "source": [
    "## Serving single prediction from BigQuery"
   ]
  },
  {
   "cell_type": "code",
   "execution_count": 43,
   "metadata": {},
   "outputs": [
    {
     "data": {
      "text/html": [
       "<div>\n",
       "<style scoped>\n",
       "    .dataframe tbody tr th:only-of-type {\n",
       "        vertical-align: middle;\n",
       "    }\n",
       "\n",
       "    .dataframe tbody tr th {\n",
       "        vertical-align: top;\n",
       "    }\n",
       "\n",
       "    .dataframe thead th {\n",
       "        text-align: right;\n",
       "    }\n",
       "</style>\n",
       "<table border=\"1\" class=\"dataframe\">\n",
       "  <thead>\n",
       "    <tr style=\"text-align: right;\">\n",
       "      <th></th>\n",
       "      <th>Time</th>\n",
       "      <th>V1</th>\n",
       "      <th>V2</th>\n",
       "      <th>V3</th>\n",
       "      <th>V4</th>\n",
       "      <th>V5</th>\n",
       "      <th>V6</th>\n",
       "      <th>V7</th>\n",
       "      <th>V8</th>\n",
       "      <th>V9</th>\n",
       "      <th>...</th>\n",
       "      <th>V20</th>\n",
       "      <th>V21</th>\n",
       "      <th>V22</th>\n",
       "      <th>V23</th>\n",
       "      <th>V24</th>\n",
       "      <th>V25</th>\n",
       "      <th>V26</th>\n",
       "      <th>V27</th>\n",
       "      <th>V28</th>\n",
       "      <th>Amount</th>\n",
       "    </tr>\n",
       "  </thead>\n",
       "  <tbody>\n",
       "    <tr>\n",
       "      <th>0</th>\n",
       "      <td>115129</td>\n",
       "      <td>-0.608212</td>\n",
       "      <td>1.229362</td>\n",
       "      <td>2.437035</td>\n",
       "      <td>3.300745</td>\n",
       "      <td>0.581406</td>\n",
       "      <td>0.890973</td>\n",
       "      <td>0.744835</td>\n",
       "      <td>0.129881</td>\n",
       "      <td>-1.426577</td>\n",
       "      <td>...</td>\n",
       "      <td>-0.065234</td>\n",
       "      <td>0.080711</td>\n",
       "      <td>0.520134</td>\n",
       "      <td>-0.592601</td>\n",
       "      <td>0.068940</td>\n",
       "      <td>0.671852</td>\n",
       "      <td>0.348267</td>\n",
       "      <td>-0.123949</td>\n",
       "      <td>-0.172601</td>\n",
       "      <td>0.0</td>\n",
       "    </tr>\n",
       "    <tr>\n",
       "      <th>1</th>\n",
       "      <td>78061</td>\n",
       "      <td>1.151038</td>\n",
       "      <td>0.192985</td>\n",
       "      <td>1.093535</td>\n",
       "      <td>1.047658</td>\n",
       "      <td>-0.736774</td>\n",
       "      <td>-0.417745</td>\n",
       "      <td>-0.357777</td>\n",
       "      <td>0.067003</td>\n",
       "      <td>0.016424</td>\n",
       "      <td>...</td>\n",
       "      <td>-0.107653</td>\n",
       "      <td>0.008120</td>\n",
       "      <td>0.034498</td>\n",
       "      <td>0.070792</td>\n",
       "      <td>0.513268</td>\n",
       "      <td>0.277338</td>\n",
       "      <td>-0.542403</td>\n",
       "      <td>0.049143</td>\n",
       "      <td>0.028963</td>\n",
       "      <td>0.0</td>\n",
       "    </tr>\n",
       "    <tr>\n",
       "      <th>2</th>\n",
       "      <td>160475</td>\n",
       "      <td>-1.893675</td>\n",
       "      <td>1.061812</td>\n",
       "      <td>-0.565162</td>\n",
       "      <td>-0.881003</td>\n",
       "      <td>0.418310</td>\n",
       "      <td>-1.436985</td>\n",
       "      <td>0.189498</td>\n",
       "      <td>0.654700</td>\n",
       "      <td>-0.398496</td>\n",
       "      <td>...</td>\n",
       "      <td>-0.254071</td>\n",
       "      <td>-0.014849</td>\n",
       "      <td>-0.035409</td>\n",
       "      <td>-0.420567</td>\n",
       "      <td>0.125690</td>\n",
       "      <td>-0.136336</td>\n",
       "      <td>-0.151441</td>\n",
       "      <td>0.245346</td>\n",
       "      <td>-0.083213</td>\n",
       "      <td>0.0</td>\n",
       "    </tr>\n",
       "    <tr>\n",
       "      <th>3</th>\n",
       "      <td>152813</td>\n",
       "      <td>0.217852</td>\n",
       "      <td>1.728394</td>\n",
       "      <td>0.600695</td>\n",
       "      <td>4.408778</td>\n",
       "      <td>1.134174</td>\n",
       "      <td>0.158836</td>\n",
       "      <td>1.319731</td>\n",
       "      <td>-0.357460</td>\n",
       "      <td>-2.014953</td>\n",
       "      <td>...</td>\n",
       "      <td>0.297703</td>\n",
       "      <td>0.003698</td>\n",
       "      <td>0.504567</td>\n",
       "      <td>-0.201874</td>\n",
       "      <td>-0.069936</td>\n",
       "      <td>-0.543575</td>\n",
       "      <td>0.369814</td>\n",
       "      <td>0.296150</td>\n",
       "      <td>0.044454</td>\n",
       "      <td>0.0</td>\n",
       "    </tr>\n",
       "    <tr>\n",
       "      <th>4</th>\n",
       "      <td>134322</td>\n",
       "      <td>0.074208</td>\n",
       "      <td>0.646433</td>\n",
       "      <td>0.595510</td>\n",
       "      <td>0.907236</td>\n",
       "      <td>0.584523</td>\n",
       "      <td>0.103284</td>\n",
       "      <td>0.521797</td>\n",
       "      <td>0.158224</td>\n",
       "      <td>-1.070885</td>\n",
       "      <td>...</td>\n",
       "      <td>-0.226148</td>\n",
       "      <td>0.083198</td>\n",
       "      <td>0.250755</td>\n",
       "      <td>-0.123609</td>\n",
       "      <td>-0.311190</td>\n",
       "      <td>-0.649348</td>\n",
       "      <td>2.274925</td>\n",
       "      <td>-0.130737</td>\n",
       "      <td>-0.007134</td>\n",
       "      <td>0.0</td>\n",
       "    </tr>\n",
       "  </tbody>\n",
       "</table>\n",
       "<p>5 rows × 30 columns</p>\n",
       "</div>"
      ],
      "text/plain": [
       "     Time        V1        V2        V3        V4        V5        V6  \\\n",
       "0  115129 -0.608212  1.229362  2.437035  3.300745  0.581406  0.890973   \n",
       "1   78061  1.151038  0.192985  1.093535  1.047658 -0.736774 -0.417745   \n",
       "2  160475 -1.893675  1.061812 -0.565162 -0.881003  0.418310 -1.436985   \n",
       "3  152813  0.217852  1.728394  0.600695  4.408778  1.134174  0.158836   \n",
       "4  134322  0.074208  0.646433  0.595510  0.907236  0.584523  0.103284   \n",
       "\n",
       "         V7        V8        V9  ...       V20       V21       V22       V23  \\\n",
       "0  0.744835  0.129881 -1.426577  ... -0.065234  0.080711  0.520134 -0.592601   \n",
       "1 -0.357777  0.067003  0.016424  ... -0.107653  0.008120  0.034498  0.070792   \n",
       "2  0.189498  0.654700 -0.398496  ... -0.254071 -0.014849 -0.035409 -0.420567   \n",
       "3  1.319731 -0.357460 -2.014953  ...  0.297703  0.003698  0.504567 -0.201874   \n",
       "4  0.521797  0.158224 -1.070885  ... -0.226148  0.083198  0.250755 -0.123609   \n",
       "\n",
       "        V24       V25       V26       V27       V28  Amount  \n",
       "0  0.068940  0.671852  0.348267 -0.123949 -0.172601     0.0  \n",
       "1  0.513268  0.277338 -0.542403  0.049143  0.028963     0.0  \n",
       "2  0.125690 -0.136336 -0.151441  0.245346 -0.083213     0.0  \n",
       "3 -0.069936 -0.543575  0.369814  0.296150  0.044454     0.0  \n",
       "4 -0.311190 -0.649348  2.274925 -0.130737 -0.007134     0.0  \n",
       "\n",
       "[5 rows x 30 columns]"
      ]
     },
     "execution_count": 43,
     "metadata": {},
     "output_type": "execute_result"
    }
   ],
   "source": [
    "test_data: pd.DataFrame = bq.query(query = f\"SELECT * FROM {BQ_PROJECT}.{BQ_DATASET}.{BQ_TABLE}_prepped WHERE splits='TEST' LIMIT 10\").to_dataframe()\n",
    "cleaned_test_data = test_data[test_data.columns[~test_data.columns.isin([VAR_TARGET, VAR_OMIT, VAR_SPLITS])]]\n",
    "test_answer = test_data[[VAR_TARGET]]\n",
    "cleaned_test_data.head()"
   ]
  },
  {
   "cell_type": "code",
   "execution_count": 36,
   "metadata": {},
   "outputs": [
    {
     "data": {
      "text/plain": [
       "Prediction(predictions=[{'classes': ['0', '1'], 'scores': [0.9993107914924622, 0.0006892087985761464]}], deployed_model_id='4409690339242147840', metadata=None, model_version_id='1', model_resource_name='projects/614098673135/locations/us-central1/models/2000408574622171136', explanations=None)"
      ]
     },
     "execution_count": 36,
     "metadata": {},
     "output_type": "execute_result"
    }
   ],
   "source": [
    "data_for_pred_req = cleaned_test_data.to_dict(orient='records')[0]\n",
    "data_for_pred_req['Time'] = str(data_for_pred_req['Time'])\n",
    "instances = [json_format.ParseDict(data_for_pred_req, Value())]\n",
    "parameters = json_format.ParseDict({}, Value())\n",
    "prediction = endpoint.predict(instances=instances, parameters=parameters)\n",
    "print(prediction)\n"
   ]
  },
  {
   "cell_type": "code",
   "execution_count": 56,
   "metadata": {},
   "outputs": [
    {
     "name": "stdout",
     "output_type": "stream",
     "text": [
      "predicted_class: 0 == test_answer: 0\n",
      "True\n"
     ]
    }
   ],
   "source": [
    "for pred in prediction.predictions: \n",
    "    max_index = pred['scores'].index(max(pred['scores']))\n",
    "    predicted_class = pred['classes'][max_index]\n",
    "    print(f\"predicted_class: {predicted_class} == test_answer: {str(test_answer[VAR_TARGET][0])}\")\n",
    "    print(predicted_class == str(test_answer[VAR_TARGET][0]))"
   ]
  },
  {
   "cell_type": "markdown",
   "metadata": {},
   "source": [
    "## Evaluation"
   ]
  },
  {
   "cell_type": "code",
   "execution_count": 58,
   "metadata": {},
   "outputs": [
    {
     "data": {
      "text/plain": [
       "0.9997195"
      ]
     },
     "execution_count": 58,
     "metadata": {},
     "output_type": "execute_result"
    }
   ],
   "source": [
    "evaluations = model_client.list_model_evaluations(parent = model.resource_name)\n",
    "evals = iter(evaluations)\n",
    "eval_id = next(evals).name\n",
    "geteval = model_client.get_model_evaluation(name = eval_id)\n",
    "geteval.metrics['auPrc']"
   ]
  },
  {
   "cell_type": "code",
   "execution_count": 59,
   "metadata": {},
   "outputs": [
    {
     "name": "stdout",
     "output_type": "stream",
     "text": [
      "True Label =  0  has Predicted labels =  [28239.0, 2.0, 0.0]\n",
      "True Label =  1  has Predicted labels =  [13.0, 47.0, 0.0]\n",
      "True Label =  DROPPED  has Predicted labels =  [0.0, 0.0, 0.0]\n"
     ]
    }
   ],
   "source": [
    "for i in range(len(geteval.metrics['confusionMatrix']['annotationSpecs'])):\n",
    "    print('True Label = ', geteval.metrics['confusionMatrix']['annotationSpecs'][i]['displayName'], ' has Predicted labels = ', geteval.metrics['confusionMatrix']['rows'][i])"
   ]
  },
  {
   "cell_type": "code",
   "execution_count": 60,
   "metadata": {},
   "outputs": [
    {
     "name": "stdout",
     "output_type": "stream",
     "text": [
      "Label =  0 has auPrc =  0.9997857\n",
      "Label =  1 has auPrc =  0.8708928\n"
     ]
    }
   ],
   "source": [
    "slices = model_client.list_model_evaluation_slices(parent = eval_id)\n",
    "for slice in slices:\n",
    "    print('Label = ', slice.slice_.value, 'has auPrc = ', slice.metrics['auPrc'])"
   ]
  },
  {
   "cell_type": "markdown",
   "metadata": {},
   "source": [
    "## Explanations "
   ]
  },
  {
   "cell_type": "code",
   "execution_count": 62,
   "metadata": {},
   "outputs": [
    {
     "data": {
      "text/plain": [
       "[{'classes': ['0', '1'],\n",
       "  'scores': [0.9993107914924622, 0.0006892087985761464]}]"
      ]
     },
     "execution_count": 62,
     "metadata": {},
     "output_type": "execute_result"
    }
   ],
   "source": [
    "explanation = endpoint.explain(instances=instances, parameters=parameters)\n",
    "explanation.predictions"
   ]
  },
  {
   "cell_type": "code",
   "execution_count": 64,
   "metadata": {},
   "outputs": [
    {
     "name": "stdout",
     "output_type": "stream",
     "text": [
      "attribution:\n",
      "baseline output 0.9999003410339355\n",
      "instance output 0.9993107914924622\n",
      "output_index [0]\n",
      "output display value 0\n",
      "approximation error 0.013253984741815284\n"
     ]
    }
   ],
   "source": [
    "print(\"attribution:\")\n",
    "print(\"baseline output\", explanation.explanations[0].attributions[0].baseline_output_value)\n",
    "print(\"instance output\", explanation.explanations[0].attributions[0].instance_output_value)\n",
    "print(\"output_index\", explanation.explanations[0].attributions[0].output_index)\n",
    "print(\"output display value\", explanation.explanations[0].attributions[0].output_display_name)\n",
    "print(\"approximation error\", explanation.explanations[0].attributions[0].approximation_error)"
   ]
  },
  {
   "cell_type": "code",
   "execution_count": 65,
   "metadata": {},
   "outputs": [
    {
     "name": "stderr",
     "output_type": "stream",
     "text": [
      "/tmp/ipykernel_3033/424931546.py:11: UserWarning: FigureCanvasAgg is non-interactive, and thus cannot be shown\n",
      "  fig.show()\n"
     ]
    },
    {
     "data": {
      "image/png": "[encoded data removed]",
      "text/plain": [
       "<Figure size 900x900 with 1 Axes>"
      ]
     },
     "metadata": {},
     "output_type": "display_data"
    }
   ],
   "source": [
    "features = []\n",
    "scores = []\n",
    "for k in explanation.explanations[0].attributions[0].feature_attributions:\n",
    "    features.append(k)\n",
    "    scores.append(explanation.explanations[0].attributions[0].feature_attributions[k])\n",
    "features = [x for _, x in sorted(zip(scores, features))]\n",
    "scores = sorted(scores)\n",
    "fig, ax = plt.subplots()\n",
    "fig.set_size_inches(9, 9)\n",
    "ax.barh(features, scores)\n",
    "fig.show()"
   ]
  },
  {
   "cell_type": "code",
   "execution_count": 66,
   "metadata": {},
   "outputs": [],
   "source": [
    "# Batch predict\n",
    "# batch = aiplatform.BatchPredictionJob.create(\n",
    "#     job_display_name = f'{NOTEBOOK}_{DATANAME}_{TIMESTAMP}',\n",
    "#     model_name = model.name,\n",
    "#     instances_format = \"bigquery\",\n",
    "#     predictions_format = \"bigquery\",\n",
    "#     bigquery_source = f'bq://{PROJECT_ID}.{DATANAME}.{DATANAME}_prepped',\n",
    "#     bigquery_destination_prefix = f\"{PROJECT_ID}\",\n",
    "#     generate_explanation = True,\n",
    "#     labels = {'notebook':f'{NOTEBOOK}'}\n",
    "# )"
   ]
  }
 ],
 "metadata": {
  "kernelspec": {
   "display_name": "mlops-MyCeTT9t",
   "language": "python",
   "name": "python3"
  },
  "language_info": {
   "codemirror_mode": {
    "name": "ipython",
    "version": 3
   },
   "file_extension": ".py",
   "mimetype": "text/x-python",
   "name": "python",
   "nbconvert_exporter": "python",
   "pygments_lexer": "ipython3",
   "version": "3.11.9"
  }
 },
 "nbformat": 4,
 "nbformat_minor": 2
}
